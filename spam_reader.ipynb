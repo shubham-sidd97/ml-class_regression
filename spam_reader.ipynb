{
 "cells": [
  {
   "cell_type": "code",
   "execution_count": 1,
   "metadata": {},
   "outputs": [
    {
     "name": "stdout",
     "output_type": "stream",
     "text": [
      "[nltk_data] Downloading package stopwords to\n",
      "[nltk_data]     C:\\Users\\4shub\\AppData\\Roaming\\nltk_data...\n",
      "[nltk_data]   Package stopwords is already up-to-date!\n"
     ]
    }
   ],
   "source": [
    "import os\n",
    "import collections\n",
    "import numpy as np\n",
    "import sklearn\n",
    "import sklearn.linear_model\n",
    "import sklearn.datasets\n",
    "import sklearn.naive_bayes\n",
    "import nltk\n",
    "import nltk.corpus\n",
    "import nltk.stem.porter\n",
    "nltk.download('stopwords')\n",
    "porter_stemmer = nltk.stem.porter.PorterStemmer()\n",
    "porter_stemmer.stem(\"going\")\n",
    "stop_words=set(nltk.corpus.stopwords.words('english'))"
   ]
  },
  {
   "cell_type": "code",
   "execution_count": 2,
   "metadata": {},
   "outputs": [],
   "source": [
    "def makeDictionary(root_dir):\n",
    "    all_words=[]\n",
    "    emails=[os.path.join(root_dir,f) for f in os.listdir(root_dir)]\n",
    "    return emails"
   ]
  },
  {
   "cell_type": "code",
   "execution_count": 3,
   "metadata": {},
   "outputs": [],
   "source": [
    "data = makeDictionary(\"C:\\\\Users\\\\4shub\\\\Desktop\\\\summertrainning\\\\lingspam_public\\\\bare\\\\part1\")"
   ]
  },
  {
   "cell_type": "code",
   "execution_count": 4,
   "metadata": {},
   "outputs": [
    {
     "data": {
      "text/plain": [
       "289"
      ]
     },
     "execution_count": 4,
     "metadata": {},
     "output_type": "execute_result"
    }
   ],
   "source": [
    "len(data)"
   ]
  },
  {
   "cell_type": "code",
   "execution_count": 5,
   "metadata": {},
   "outputs": [],
   "source": [
    "def makeDictionary(root_dir):\n",
    "    all_words=[]\n",
    "    emails=[os.path.join(root_dir,f) for f in os.listdir(root_dir)]\n",
    "    #return emails\n",
    "    for mail in emails:\n",
    "        with open(mail) as m:\n",
    "            for line in m:\n",
    "                words = line.split()\n",
    "                all_words += words\n",
    "    dictionary = collections.Counter(all_words)\n",
    "    list_to_remove = list(dictionary.keys())\n",
    "    for item in list_to_remove:\n",
    "        if item.isalpha() == False:\n",
    "            del dictionary[item]\n",
    "        elif len(item) == 1:\n",
    "            del dictionary[item]\n",
    "    print(len(list_to_remove))        \n",
    "    return dictionary"
   ]
  },
  {
   "cell_type": "code",
   "execution_count": 6,
   "metadata": {},
   "outputs": [
    {
     "name": "stdout",
     "output_type": "stream",
     "text": [
      "11602\n"
     ]
    },
    {
     "data": {
      "text/plain": [
       "9999"
      ]
     },
     "execution_count": 6,
     "metadata": {},
     "output_type": "execute_result"
    }
   ],
   "source": [
    "len(makeDictionary(\"C:\\\\Users\\\\4shub\\\\Desktop\\\\summertrainning\\\\lingspam_public\\\\lemm_stop\\\\part1\"))"
   ]
  },
  {
   "cell_type": "code",
   "execution_count": 7,
   "metadata": {},
   "outputs": [],
   "source": [
    "def makeDictionary(root_dir):\n",
    "    all_words=[]\n",
    "    emails=[os.path.join(root_dir,f) for f in os.listdir(root_dir)]\n",
    "    #return emails\n",
    "    for mail in emails:\n",
    "        with open(mail) as m:\n",
    "            for line in m:\n",
    "                words = line.split()\n",
    "                final_words=[]\n",
    "                for word in words:\n",
    "                    if word not in stop_words:\n",
    "                        word_stem = porter_stemmer.stem(word)\n",
    "                        final_words.append(word_stem)\n",
    "                \n",
    "                all_words += final_words\n",
    "    dictionary = collections.Counter(all_words)\n",
    "    list_to_remove = list(dictionary.keys())\n",
    "    times_removed = 0\n",
    "    for item in list_to_remove:\n",
    "        if item.isalpha() == False:\n",
    "            times_removed+=1\n",
    "            del dictionary[item]\n",
    "        elif len(item) == 1:\n",
    "            times_removed+=1\n",
    "            del dictionary[item]\n",
    "    #print(times_removed)  \n",
    "    dictionary=dictionary.most_common(3000)\n",
    "    return dictionary"
   ]
  },
  {
   "cell_type": "code",
   "execution_count": 8,
   "metadata": {},
   "outputs": [],
   "source": [
    "d=makeDictionary(\"C:\\\\Users\\\\4shub\\\\Desktop\\\\summertrainning\\\\lingspam_public\\\\lemm_stop\\\\part1\")"
   ]
  },
  {
   "cell_type": "code",
   "execution_count": 22,
   "metadata": {},
   "outputs": [
    {
     "data": {
      "text/plain": [
       "3000"
      ]
     },
     "execution_count": 22,
     "metadata": {},
     "output_type": "execute_result"
    }
   ],
   "source": [
    "len(d)"
   ]
  },
  {
   "cell_type": "code",
   "execution_count": 10,
   "metadata": {},
   "outputs": [],
   "source": [
    "def extract_features(mail_dir):\n",
    "    file_paths = [os.path.join(mail_dir,f)for f in os.listdir(mail_dir)]\n",
    "    features_matrix = np.zeros((len(file_paths),3000))\n",
    "    train_labels = np.zeros(len(file_paths))\n",
    "    count=0\n",
    "    docID=0\n",
    "    for file in file_paths:\n",
    "        with open(file) as fi:\n",
    "            for i,line in enumerate(fi):\n",
    "                if i==2:\n",
    "                    words = line.split()\n",
    "                    for word in words:\n",
    "                        worldID = 0\n",
    "                        for i,t in enumerate(d):\n",
    "                            if t[0] == word:\n",
    "                                wordID = i\n",
    "                                features_matrix[docID,wordID]=words.count(word)\n",
    "        train_labels[docID] = 0 \n",
    "        filepathTokens = file.split('\\\\')\n",
    "        lastToken = filepathTokens[len(filepathTokens)-1]\n",
    "        \n",
    "        if lastToken.startswith(\"spmsg\"):\n",
    "            train_labels[docID]=1\n",
    "            count = count+1\n",
    "        docID = docID + 1    \n",
    "    return features_matrix,train_labels    \n",
    "    #print(features_matrix.shape)\n",
    "#extract_features(\"C:\\\\Users\\\\4shub\\\\Desktop\\\\summertrainning\\\\lingspam_public\\\\lemm_stop\\\\part1\")    "
   ]
  },
  {
   "cell_type": "code",
   "execution_count": 16,
   "metadata": {},
   "outputs": [],
   "source": [
    "x,y=extract_features(\"C:\\\\Users\\\\4shub\\\\Desktop\\\\summertrainning\\\\lingspam_public\\\\lemm_stop\\\\part1\")"
   ]
  },
  {
   "cell_type": "code",
   "execution_count": 15,
   "metadata": {},
   "outputs": [],
   "source": [
    "#y=makeDictionary(\"C:\\\\Users\\\\4shub\\\\Desktop\\\\summertrainning\\\\lingspam_public\\\\lemm_stop\\\\part1\")"
   ]
  },
  {
   "cell_type": "code",
   "execution_count": 17,
   "metadata": {},
   "outputs": [
    {
     "data": {
      "text/plain": [
       "(289, 3000)"
      ]
     },
     "execution_count": 17,
     "metadata": {},
     "output_type": "execute_result"
    }
   ],
   "source": [
    "x.shape"
   ]
  },
  {
   "cell_type": "code",
   "execution_count": 18,
   "metadata": {},
   "outputs": [
    {
     "data": {
      "text/plain": [
       "(289,)"
      ]
     },
     "execution_count": 18,
     "metadata": {},
     "output_type": "execute_result"
    }
   ],
   "source": [
    "y.shape"
   ]
  },
  {
   "cell_type": "code",
   "execution_count": 19,
   "metadata": {},
   "outputs": [],
   "source": [
    "x_train,x_test,y_train,y_test = sklearn.model_selection.train_test_split(x,y,test_size=0.2)"
   ]
  },
  {
   "cell_type": "code",
   "execution_count": 20,
   "metadata": {},
   "outputs": [
    {
     "data": {
      "text/plain": [
       "GaussianNB(priors=None)"
      ]
     },
     "execution_count": 20,
     "metadata": {},
     "output_type": "execute_result"
    }
   ],
   "source": [
    "model = sklearn.naive_bayes.GaussianNB()\n",
    "model.fit(x_train,y_train)\n"
   ]
  },
  {
   "cell_type": "code",
   "execution_count": 21,
   "metadata": {},
   "outputs": [
    {
     "data": {
      "text/plain": [
       "0.9482758620689655"
      ]
     },
     "execution_count": 21,
     "metadata": {},
     "output_type": "execute_result"
    }
   ],
   "source": [
    "model.score(x_test,y_test)"
   ]
  },
  {
   "cell_type": "code",
   "execution_count": null,
   "metadata": {},
   "outputs": [],
   "source": [
    "list=extract_features(\"C:\\\\Users\\\\4shub\\\\Desktop\\\\summertrainning\\\\lingspam_public\\\\lemm_stop\\\\part1\")\n",
    "new_list = []\n",
    "for sentence in list:\n",
    "    #sentence = sentence.lower()   \n",
    "    words = sentence.split(\" \")\n",
    "    final_sentence = []\n",
    "    new_sentence = \"\"\n",
    "    for word in words:\n",
    "        if word not in stop_words:\n",
    "            word_stem = porter_stemmer.stem(word)\n",
    "            final_senyence.push(word_stem)\n",
    "    new_sentence = \" \".join(final_sentence)  \n",
    "    new_list.append(new_sentence)"
   ]
  },
  {
   "cell_type": "code",
   "execution_count": null,
   "metadata": {},
   "outputs": [],
   "source": []
  }
 ],
 "metadata": {
  "kernelspec": {
   "display_name": "Python 3",
   "language": "python",
   "name": "python3"
  },
  "language_info": {
   "codemirror_mode": {
    "name": "ipython",
    "version": 3
   },
   "file_extension": ".py",
   "mimetype": "text/x-python",
   "name": "python",
   "nbconvert_exporter": "python",
   "pygments_lexer": "ipython3",
   "version": "3.6.4"
  }
 },
 "nbformat": 4,
 "nbformat_minor": 2
}
